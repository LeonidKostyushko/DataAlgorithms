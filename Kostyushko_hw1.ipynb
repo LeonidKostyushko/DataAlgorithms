{
 "cells": [
  {
   "cell_type": "markdown",
   "metadata": {},
   "source": [
    "**Общая информация**\n",
    "\n",
    "**Срок сдачи:** 20 марта 2019, 06:00 <br\\>\n",
    "**Штраф за опоздание:** -1 балл после 06:00 20 марта, -2 балла после 06:00 27 марта, -3 балла после 06:00 3 апреля\n",
    "\n",
    "При отправлении ДЗ указывайте фамилию в названии файла\n",
    "Присылать ДЗ необходимо в виде ссылки на свой github репозиторий в slack @alkhamush\n",
    "\n",
    "Необходимо в slack скинуть ссылку в личный чат @alkhamush\n",
    "Пример ссылки:\n",
    "https://github.com/stroykova/spheremailru/stroykova_hw1.ipynb \n",
    "\n",
    "\n",
    "Используйте данный Ipython Notebook при оформлении домашнего задания."
   ]
  },
  {
   "cell_type": "markdown",
   "metadata": {},
   "source": [
    "###### Задание 1 (2 баллов)\n",
    "Реализовать KNN в классе MyKNeighborsClassifier (обязательное условие: точность не ниже sklearn реализации)\n",
    "Разберитесь самостоятельно, какая мера расстояния используется в KNeighborsClassifier дефолтно и реализуйте свой алгоритм именно с этой мерой. Самостоятельно разберитесь, как считается score из KNeighborsClassifier и реализуйте аналог в своём классе. Score не должен уступать значению KNN из sklearn\n",
    "\n",
    "###### Задание 2 (2 балла)\n",
    "Добиться скорости работы на fit,  predict и predict_proba сравнимой со sklearn для iris и mnist\n",
    "Для этого используем numpy\n",
    "\n",
    "###### Задание 3 (2 балла)\n",
    "Для iris найдите такой параметр n_neighbors, при котором выдаётся наилучший score. Нарисуйте график зависимости score от n_neighbors\n",
    "\n",
    "###### Задание 4 (3 балла)\n",
    "Добавить algorithm='kd_tree' в реализацию KNN (использовать KDTree из sklearn.neighbors). Значение n_neighbors нужно взять из задания 3. Добиться скорости работы на fit,  predict и predict_proba сравнимой со sklearn для iris и mnist\n",
    "Для этого используем numpy. Score не должен уступать значению KNN из sklearn\n",
    "\n",
    "###### Задание 5 (1 балла)\n",
    "Описать для чего нужны следующие библиотеки/классы/функции (список будет ниже)\n",
    "\n",
    "**Штрафные баллы:**\n",
    "\n",
    "1. Невыполнение PEP8 -1 балл\n",
    "2. Отсутствие фамилии в имени скрипта (скрипт должен называться по аналогии со stroykova_hw1.ipynb) -1 балл\n",
    "3. Все строчки должны быть выполнены. Нужно, чтобы output команды можно было увидеть уже в git'е. В противном случае -1 балл\n",
    "4. При оформлении ДЗ нужно пользоваться данным файлом в качестве шаблона. Не нужно удалять и видоизменять структуру кода и текст. В противном случае -1 балл\n"
   ]
  },
  {
   "cell_type": "code",
   "execution_count": 1,
   "metadata": {},
   "outputs": [],
   "source": [
    "import numpy as np\n",
    "import matplotlib.pyplot as plt\n",
    "\n",
    "import seaborn as sns\n",
    "from sklearn import datasets\n",
    "from sklearn.base import ClassifierMixin\n",
    "from sklearn.datasets import fetch_mldata\n",
    "from sklearn.neighbors.base import NeighborsBase, KNeighborsMixin, SupervisedIntegerMixin \n",
    "from sklearn.model_selection import train_test_split\n",
    "from sklearn.neighbors import KNeighborsClassifier, KDTree\n",
    "from scipy import stats\n",
    "from sklearn.metrics.pairwise import pairwise_distances\n",
    "%load_ext pycodestyle_magic\n"
   ]
  },
  {
   "cell_type": "code",
   "execution_count": 14,
   "metadata": {},
   "outputs": [
    {
     "name": "stderr",
     "output_type": "stream",
     "text": [
      "57:1: W391 blank line at end of file\n"
     ]
    }
   ],
   "source": [
    "%%pycodestyle\n",
    "\n",
    "\n",
    "class MyKNeighborsClassifier(NeighborsBase, KNeighborsMixin,\n",
    "                             SupervisedIntegerMixin, ClassifierMixin):\n",
    "\n",
    "    def __init__(self, n_neighbors, algorithm='brute'):\n",
    "        self.n_neighbors = n_neighbors\n",
    "        self.algorithm = algorithm\n",
    "\n",
    "    def fit(self, X, y):\n",
    "        X = X.astype(float)\n",
    "        self.train_x = np.array(X).astype(float)\n",
    "        self.train_y = np.array(y)\n",
    "\n",
    "        if self.algorithm == 'kd_tree':\n",
    "            self.tree = KDTree(self.train_x, leaf_size=60)\n",
    "\n",
    "        self.type_quantity = len(np.unique(self.train_y))\n",
    "\n",
    "    def mink_dist(self, X):\n",
    "        X = X.astype(float)\n",
    "        dist = pairwise_distances(X=X, Y=self.train_x)\n",
    "\n",
    "        return dist\n",
    "\n",
    "    def predict(self, X):\n",
    "        X = X.astype(float)\n",
    "        if self.algorithm == 'brute':\n",
    "            distances = self.mink_dist(X)\n",
    "            predict = self.train_y[np.argpartition(distances,\n",
    "                                   self.n_neighbors)[:, :self.n_neighbors]]\n",
    "\n",
    "        if self.algorithm == 'kd_tree':\n",
    "            distances, indexes = self.tree.query(X, k=self.n_neighbors)\n",
    "            predict = self.train_y[indexes]\n",
    "\n",
    "        return stats.mode(predict.T)[0].reshape(-1)\n",
    "\n",
    "    def predict_proba(self, X):\n",
    "        X = X.astype(float)\n",
    "        if self.algorithm == 'brute':\n",
    "            distances = self.mink_dist(X)\n",
    "            indexes = np.argpartition(distances,\n",
    "                                      self.n_neighbors)[:, :self.n_neighbors]\n",
    "        if self.algorithm == 'kd_tree':\n",
    "            distances, indexes = self.tree.query(X, k=self.n_neighbors)\n",
    "        types_quantity = np.zeros((X.shape[0], self.type_quantity))\n",
    "        for i in range(indexes.shape[0]):\n",
    "            for j in indexes[i]:\n",
    "                types_quantity[i][int(self.train_y[j])] += 1\n",
    "\n",
    "        return types_quantity / self.n_neighbors\n",
    "\n",
    "    def score(self, X, y):\n",
    "        return float((self.predict(X) == y).sum() / y.shape[0])"
   ]
  },
  {
   "cell_type": "markdown",
   "metadata": {},
   "source": [
    "**IRIS**"
   ]
  },
  {
   "cell_type": "code",
   "execution_count": 15,
   "metadata": {},
   "outputs": [],
   "source": [
    "iris = datasets.load_iris()"
   ]
  },
  {
   "cell_type": "code",
   "execution_count": 16,
   "metadata": {},
   "outputs": [],
   "source": [
    "X_train, X_test, y_train, y_test = train_test_split(iris.data, iris.target, test_size=0.1, stratify=iris.target)"
   ]
  },
  {
   "cell_type": "code",
   "execution_count": 17,
   "metadata": {},
   "outputs": [],
   "source": [
    "clf = KNeighborsClassifier(n_neighbors=2)\n",
    "my_clf = MyKNeighborsClassifier(n_neighbors=2)"
   ]
  },
  {
   "cell_type": "code",
   "execution_count": 18,
   "metadata": {},
   "outputs": [
    {
     "name": "stdout",
     "output_type": "stream",
     "text": [
      "Wall time: 2 ms\n"
     ]
    },
    {
     "data": {
      "text/plain": [
       "KNeighborsClassifier(algorithm='auto', leaf_size=30, metric='minkowski',\n",
       "           metric_params=None, n_jobs=None, n_neighbors=2, p=2,\n",
       "           weights='uniform')"
      ]
     },
     "execution_count": 18,
     "metadata": {},
     "output_type": "execute_result"
    }
   ],
   "source": [
    "%time clf.fit(X_train, y_train)"
   ]
  },
  {
   "cell_type": "code",
   "execution_count": 19,
   "metadata": {},
   "outputs": [
    {
     "name": "stdout",
     "output_type": "stream",
     "text": [
      "Wall time: 0 ns\n"
     ]
    }
   ],
   "source": [
    "%time my_clf.fit(X_train, y_train)"
   ]
  },
  {
   "cell_type": "code",
   "execution_count": 20,
   "metadata": {},
   "outputs": [
    {
     "name": "stdout",
     "output_type": "stream",
     "text": [
      "Wall time: 997 µs\n"
     ]
    },
    {
     "data": {
      "text/plain": [
       "array([1, 1, 2, 0, 0, 1, 1, 2, 2, 0, 1, 0, 2, 0, 2])"
      ]
     },
     "execution_count": 20,
     "metadata": {},
     "output_type": "execute_result"
    }
   ],
   "source": [
    "%time clf.predict(X_test)"
   ]
  },
  {
   "cell_type": "code",
   "execution_count": 21,
   "metadata": {},
   "outputs": [
    {
     "name": "stdout",
     "output_type": "stream",
     "text": [
      "Wall time: 367 ms\n"
     ]
    },
    {
     "data": {
      "text/plain": [
       "array([1, 1, 2, 0, 0, 1, 1, 2, 2, 0, 1, 0, 2, 0, 2])"
      ]
     },
     "execution_count": 21,
     "metadata": {},
     "output_type": "execute_result"
    }
   ],
   "source": [
    "%time my_clf.predict(X_test)"
   ]
  },
  {
   "cell_type": "code",
   "execution_count": 22,
   "metadata": {},
   "outputs": [
    {
     "name": "stdout",
     "output_type": "stream",
     "text": [
      "Wall time: 1.99 ms\n"
     ]
    },
    {
     "data": {
      "text/plain": [
       "array([[0., 1., 0.],\n",
       "       [0., 1., 0.],\n",
       "       [0., 0., 1.],\n",
       "       [1., 0., 0.],\n",
       "       [1., 0., 0.],\n",
       "       [0., 1., 0.],\n",
       "       [0., 1., 0.],\n",
       "       [0., 0., 1.],\n",
       "       [0., 0., 1.],\n",
       "       [1., 0., 0.],\n",
       "       [0., 1., 0.],\n",
       "       [1., 0., 0.],\n",
       "       [0., 0., 1.],\n",
       "       [1., 0., 0.],\n",
       "       [0., 0., 1.]])"
      ]
     },
     "execution_count": 22,
     "metadata": {},
     "output_type": "execute_result"
    }
   ],
   "source": [
    "%time clf.predict_proba(X_test)"
   ]
  },
  {
   "cell_type": "code",
   "execution_count": 23,
   "metadata": {},
   "outputs": [
    {
     "name": "stdout",
     "output_type": "stream",
     "text": [
      "Wall time: 997 µs\n"
     ]
    },
    {
     "data": {
      "text/plain": [
       "array([[0., 1., 0.],\n",
       "       [0., 1., 0.],\n",
       "       [0., 0., 1.],\n",
       "       [1., 0., 0.],\n",
       "       [1., 0., 0.],\n",
       "       [0., 1., 0.],\n",
       "       [0., 1., 0.],\n",
       "       [0., 0., 1.],\n",
       "       [0., 0., 1.],\n",
       "       [1., 0., 0.],\n",
       "       [0., 1., 0.],\n",
       "       [1., 0., 0.],\n",
       "       [0., 0., 1.],\n",
       "       [1., 0., 0.],\n",
       "       [0., 0., 1.]])"
      ]
     },
     "execution_count": 23,
     "metadata": {},
     "output_type": "execute_result"
    }
   ],
   "source": [
    "%time my_clf.predict_proba(X_test)"
   ]
  },
  {
   "cell_type": "code",
   "execution_count": 24,
   "metadata": {},
   "outputs": [
    {
     "data": {
      "text/plain": [
       "0.8666666666666667"
      ]
     },
     "execution_count": 24,
     "metadata": {},
     "output_type": "execute_result"
    }
   ],
   "source": [
    "clf.score(X_test, y_test)"
   ]
  },
  {
   "cell_type": "code",
   "execution_count": 25,
   "metadata": {},
   "outputs": [
    {
     "data": {
      "text/plain": [
       "0.8666666666666667"
      ]
     },
     "execution_count": 25,
     "metadata": {},
     "output_type": "execute_result"
    }
   ],
   "source": [
    "my_clf.score(X_test, y_test)"
   ]
  },
  {
   "cell_type": "markdown",
   "metadata": {},
   "source": [
    "Задание 3"
   ]
  },
  {
   "cell_type": "code",
   "execution_count": 26,
   "metadata": {},
   "outputs": [
    {
     "data": {
      "image/png": "[encoded data removed]",
      "text/plain": [
       "<Figure size 1008x1008 with 1 Axes>"
      ]
     },
     "metadata": {
      "needs_background": "light"
     },
     "output_type": "display_data"
    },
    {
     "name": "stdout",
     "output_type": "stream",
     "text": [
      "Best score is 0.9925925925925926 by the quantity of neighbors: [ 9 11 12 13 14 15]\n"
     ]
    }
   ],
   "source": [
    "N = 30\n",
    "test_accuracy = np.zeros(N-1)\n",
    "sklearn_test_accuracy = np.zeros(N-1)\n",
    "for i in range(1, N):\n",
    "    my_knn = MyKNeighborsClassifier(n_neighbors=i)\n",
    "    my_knn.fit(X_train, y_train)\n",
    "    test_accuracy[i-1] = my_knn.score(X_train, y_train)\n",
    "\n",
    "best_res = np.sort(test_accuracy)[N-3]\n",
    "best_res_ind = np.where(test_accuracy == best_res)\n",
    "\n",
    "plt.figure(figsize=(14,14))\n",
    "plt.subplot(1, 1, 1)\n",
    "plt.grid(color=\"black\")\n",
    "plt.title(\"Plot of dependence score from neighbors quantity\")\n",
    "plt.plot(range(1,N), test_accuracy, color=\"yellow\")\n",
    "plt.xlabel('neighbors')\n",
    "plt.ylabel('score')\n",
    "plt.show()\n",
    "#print(best_res[best_res_ind])\n",
    "print('Best score is',best_res, 'by the quantity of neighbors:', *best_res_ind)\n",
    "\n"
   ]
  },
  {
   "cell_type": "markdown",
   "metadata": {},
   "source": [
    "**MNIST**"
   ]
  },
  {
   "cell_type": "code",
   "execution_count": 27,
   "metadata": {},
   "outputs": [],
   "source": [
    "from sklearn.datasets import fetch_openml\n",
    "mnist = fetch_openml('mnist_784')\n"
   ]
  },
  {
   "cell_type": "code",
   "execution_count": 28,
   "metadata": {},
   "outputs": [],
   "source": [
    "X_train, X_test, y_train, y_test = train_test_split(mnist.data, mnist.target, test_size=0.01, stratify=mnist.target)"
   ]
  },
  {
   "cell_type": "code",
   "execution_count": 29,
   "metadata": {},
   "outputs": [],
   "source": [
    "clf = KNeighborsClassifier(n_neighbors=2)\n",
    "my_clf = MyKNeighborsClassifier(n_neighbors=2)"
   ]
  },
  {
   "cell_type": "code",
   "execution_count": 30,
   "metadata": {},
   "outputs": [
    {
     "name": "stdout",
     "output_type": "stream",
     "text": [
      "Wall time: 1min 6s\n"
     ]
    },
    {
     "data": {
      "text/plain": [
       "KNeighborsClassifier(algorithm='auto', leaf_size=30, metric='minkowski',\n",
       "           metric_params=None, n_jobs=None, n_neighbors=2, p=2,\n",
       "           weights='uniform')"
      ]
     },
     "execution_count": 30,
     "metadata": {},
     "output_type": "execute_result"
    }
   ],
   "source": [
    "%time clf.fit(X_train, y_train)"
   ]
  },
  {
   "cell_type": "code",
   "execution_count": 31,
   "metadata": {},
   "outputs": [
    {
     "name": "stdout",
     "output_type": "stream",
     "text": [
      "Wall time: 916 ms\n"
     ]
    }
   ],
   "source": [
    "%time my_clf.fit(X_train, y_train)"
   ]
  },
  {
   "cell_type": "code",
   "execution_count": 32,
   "metadata": {},
   "outputs": [
    {
     "name": "stdout",
     "output_type": "stream",
     "text": [
      "Wall time: 1min 44s\n"
     ]
    },
    {
     "data": {
      "text/plain": [
       "array(['4', '3', '4', '6', '8', '3', '1', '1', '7', '4', '5', '7', '1',\n",
       "       '7', '0', '5', '6', '8', '6', '0', '4', '7', '7', '3', '5', '1',\n",
       "       '1', '8', '3', '0', '5', '4', '0', '8', '5', '7', '6', '1', '5',\n",
       "       '3', '0', '7', '3', '7', '9', '5', '9', '7', '8', '7', '9', '2',\n",
       "       '1', '9', '9', '7', '7', '6', '6', '2', '4', '1', '3', '1', '1',\n",
       "       '4', '2', '6', '1', '6', '9', '7', '0', '9', '1', '7', '6', '7',\n",
       "       '0', '3', '6', '3', '6', '2', '1', '1', '2', '4', '7', '0', '2',\n",
       "       '7', '0', '7', '3', '7', '6', '7', '1', '1', '1', '5', '8', '1',\n",
       "       '4', '2', '1', '1', '3', '1', '3', '7', '8', '3', '7', '0', '2',\n",
       "       '4', '4', '3', '5', '3', '5', '2', '2', '3', '2', '5', '0', '9',\n",
       "       '2', '9', '5', '7', '8', '2', '9', '8', '3', '3', '8', '4', '0',\n",
       "       '8', '5', '4', '4', '2', '3', '6', '3', '8', '3', '3', '6', '4',\n",
       "       '8', '4', '1', '1', '7', '5', '0', '9', '7', '8', '3', '0', '2',\n",
       "       '1', '3', '7', '3', '7', '0', '0', '0', '0', '2', '2', '6', '2',\n",
       "       '6', '3', '3', '8', '3', '1', '4', '2', '9', '7', '0', '0', '1',\n",
       "       '8', '5', '9', '6', '8', '5', '6', '0', '7', '4', '6', '9', '6',\n",
       "       '4', '2', '8', '2', '5', '4', '4', '8', '6', '0', '6', '5', '3',\n",
       "       '0', '3', '9', '9', '1', '9', '8', '0', '1', '8', '8', '2', '9',\n",
       "       '2', '7', '4', '2', '9', '9', '6', '9', '9', '3', '9', '9', '3',\n",
       "       '0', '0', '8', '6', '5', '2', '1', '0', '6', '6', '0', '7', '3',\n",
       "       '6', '7', '4', '0', '2', '5', '1', '6', '5', '2', '4', '2', '5',\n",
       "       '7', '8', '3', '9', '9', '0', '3', '3', '8', '7', '7', '4', '1',\n",
       "       '1', '6', '1', '9', '4', '2', '9', '6', '5', '6', '4', '1', '2',\n",
       "       '4', '2', '4', '3', '7', '4', '7', '5', '2', '2', '6', '3', '0',\n",
       "       '3', '8', '1', '7', '2', '9', '7', '4', '1', '8', '4', '1', '3',\n",
       "       '5', '9', '2', '2', '1', '8', '9', '7', '6', '7', '4', '9', '3',\n",
       "       '4', '1', '1', '7', '2', '4', '6', '7', '7', '6', '5', '2', '9',\n",
       "       '2', '7', '3', '1', '8', '9', '6', '5', '0', '4', '8', '7', '0',\n",
       "       '2', '7', '9', '8', '3', '0', '2', '0', '5', '1', '5', '0', '6',\n",
       "       '1', '3', '0', '5', '7', '5', '4', '6', '8', '8', '8', '2', '1',\n",
       "       '8', '1', '3', '3', '6', '3', '8', '3', '0', '9', '8', '5', '4',\n",
       "       '3', '6', '4', '7', '4', '6', '9', '0', '4', '2', '2', '6', '8',\n",
       "       '7', '4', '8', '2', '0', '9', '7', '7', '5', '9', '7', '6', '0',\n",
       "       '0', '1', '7', '5', '5', '5', '6', '8', '6', '6', '2', '4', '8',\n",
       "       '3', '3', '5', '3', '7', '9', '0', '6', '1', '0', '3', '6', '9',\n",
       "       '2', '4', '7', '6', '9', '4', '4', '4', '9', '2', '7', '1', '1',\n",
       "       '2', '4', '0', '1', '6', '1', '0', '3', '8', '3', '2', '7', '1',\n",
       "       '0', '8', '4', '1', '7', '4', '5', '6', '5', '0', '4', '1', '6',\n",
       "       '5', '8', '2', '9', '1', '2', '3', '2', '3', '2', '5', '2', '4',\n",
       "       '0', '0', '3', '9', '4', '0', '4', '3', '1', '7', '9', '2', '6',\n",
       "       '8', '5', '8', '9', '8', '7', '6', '3', '1', '5', '9', '0', '4',\n",
       "       '4', '0', '8', '2', '1', '1', '5', '5', '9', '8', '0', '3', '2',\n",
       "       '6', '6', '5', '4', '1', '4', '4', '1', '9', '2', '6', '8', '0',\n",
       "       '8', '1', '1', '5', '9', '5', '7', '3', '0', '3', '2', '1', '1',\n",
       "       '9', '2', '7', '0', '1', '5', '8', '3', '3', '1', '3', '5', '7',\n",
       "       '5', '1', '3', '8', '2', '1', '6', '7', '0', '1', '1', '3', '9',\n",
       "       '5', '4', '1', '9', '5', '1', '7', '8', '1', '7', '6', '0', '0',\n",
       "       '9', '6', '2', '1', '8', '2', '9', '1', '2', '9', '5', '5', '5',\n",
       "       '7', '9', '3', '8', '2', '0', '4', '5', '5', '1', '4', '2', '5',\n",
       "       '0', '9', '4', '7', '7', '5', '2', '2', '5', '4', '8', '0', '0',\n",
       "       '8', '8', '0', '9', '7', '1', '6', '2', '5', '3', '5', '8', '0',\n",
       "       '0', '8', '7', '6', '8', '4', '1', '3', '8', '5', '4', '9', '4',\n",
       "       '4', '6', '4', '0', '9', '7', '9', '8', '6', '0', '6', '4', '6',\n",
       "       '1', '3', '9', '2', '9', '0', '3', '7', '8', '6', '6'],\n",
       "      dtype=object)"
      ]
     },
     "execution_count": 32,
     "metadata": {},
     "output_type": "execute_result"
    }
   ],
   "source": [
    "%time clf.predict(X_test)"
   ]
  },
  {
   "cell_type": "code",
   "execution_count": 33,
   "metadata": {},
   "outputs": [
    {
     "name": "stdout",
     "output_type": "stream",
     "text": [
      "Wall time: 7.97 s\n"
     ]
    },
    {
     "name": "stderr",
     "output_type": "stream",
     "text": [
      "D:\\Anacondas\\lib\\site-packages\\scipy\\stats\\stats.py:245: RuntimeWarning: The input array could not be properly checked for nan values. nan values will be ignored.\n",
      "  \"values. nan values will be ignored.\", RuntimeWarning)\n"
     ]
    },
    {
     "data": {
      "text/plain": [
       "array(['4', '3', '4', '6', '8', '3', '1', '1', '7', '4', '5', '7', '1',\n",
       "       '7', '0', '5', '6', '8', '6', '0', '4', '7', '7', '3', '5', '1',\n",
       "       '1', '8', '3', '0', '5', '4', '0', '8', '5', '7', '6', '1', '5',\n",
       "       '3', '0', '7', '3', '7', '9', '5', '9', '7', '8', '7', '9', '2',\n",
       "       '1', '9', '9', '7', '7', '6', '6', '2', '4', '1', '3', '1', '1',\n",
       "       '4', '2', '6', '1', '6', '9', '7', '0', '9', '1', '7', '6', '7',\n",
       "       '0', '3', '6', '3', '6', '2', '1', '1', '2', '4', '7', '0', '2',\n",
       "       '7', '0', '7', '3', '7', '6', '7', '1', '1', '1', '5', '8', '1',\n",
       "       '4', '2', '1', '1', '3', '1', '3', '7', '8', '3', '7', '0', '2',\n",
       "       '4', '4', '3', '5', '3', '5', '2', '2', '3', '2', '5', '0', '9',\n",
       "       '2', '9', '5', '7', '8', '2', '9', '8', '3', '3', '8', '4', '0',\n",
       "       '8', '5', '4', '4', '2', '3', '6', '3', '8', '3', '3', '6', '4',\n",
       "       '8', '4', '1', '1', '7', '5', '0', '9', '7', '8', '3', '0', '2',\n",
       "       '1', '3', '7', '3', '7', '0', '0', '0', '0', '2', '2', '6', '2',\n",
       "       '6', '3', '3', '8', '3', '1', '4', '2', '9', '7', '0', '0', '1',\n",
       "       '8', '5', '9', '6', '8', '5', '6', '0', '7', '4', '6', '9', '6',\n",
       "       '4', '2', '8', '2', '5', '4', '4', '8', '6', '0', '6', '5', '3',\n",
       "       '0', '3', '9', '9', '1', '9', '8', '0', '1', '8', '8', '2', '9',\n",
       "       '2', '7', '4', '2', '9', '9', '6', '9', '9', '3', '9', '9', '3',\n",
       "       '0', '0', '8', '6', '5', '2', '1', '0', '6', '6', '0', '7', '3',\n",
       "       '6', '7', '4', '0', '2', '5', '1', '6', '5', '2', '4', '2', '5',\n",
       "       '7', '8', '3', '9', '9', '0', '3', '3', '8', '7', '7', '4', '1',\n",
       "       '1', '6', '1', '9', '4', '2', '9', '6', '5', '6', '4', '1', '2',\n",
       "       '4', '2', '4', '3', '7', '4', '7', '5', '2', '2', '6', '3', '0',\n",
       "       '3', '8', '1', '7', '2', '9', '7', '4', '1', '8', '4', '1', '3',\n",
       "       '5', '9', '2', '2', '1', '8', '9', '7', '6', '7', '4', '9', '3',\n",
       "       '4', '1', '1', '7', '2', '4', '6', '7', '7', '6', '5', '2', '9',\n",
       "       '2', '7', '3', '1', '8', '9', '6', '5', '0', '4', '8', '7', '0',\n",
       "       '2', '7', '9', '8', '3', '0', '2', '0', '5', '1', '5', '0', '6',\n",
       "       '1', '3', '0', '5', '7', '5', '4', '6', '8', '8', '8', '2', '1',\n",
       "       '8', '1', '3', '3', '6', '3', '8', '3', '0', '9', '8', '5', '4',\n",
       "       '3', '6', '4', '7', '4', '6', '9', '0', '4', '2', '2', '6', '8',\n",
       "       '7', '4', '8', '2', '0', '9', '7', '7', '5', '9', '7', '6', '0',\n",
       "       '0', '1', '7', '5', '5', '5', '6', '8', '6', '6', '2', '4', '8',\n",
       "       '3', '3', '5', '3', '7', '9', '0', '6', '1', '0', '3', '6', '9',\n",
       "       '2', '4', '7', '6', '9', '4', '4', '4', '9', '2', '7', '1', '1',\n",
       "       '2', '4', '0', '1', '6', '1', '0', '3', '8', '3', '2', '7', '1',\n",
       "       '0', '8', '4', '1', '7', '4', '5', '6', '5', '0', '4', '1', '6',\n",
       "       '5', '8', '2', '9', '1', '2', '3', '2', '3', '2', '5', '2', '4',\n",
       "       '0', '0', '3', '9', '4', '0', '4', '3', '1', '7', '9', '2', '6',\n",
       "       '8', '5', '8', '9', '8', '7', '6', '3', '1', '5', '9', '0', '4',\n",
       "       '4', '0', '8', '2', '1', '1', '5', '5', '9', '8', '0', '3', '2',\n",
       "       '6', '6', '5', '4', '1', '4', '4', '1', '9', '2', '6', '8', '0',\n",
       "       '8', '1', '1', '5', '9', '5', '7', '3', '0', '3', '2', '1', '1',\n",
       "       '9', '2', '7', '0', '1', '5', '8', '3', '3', '1', '3', '5', '7',\n",
       "       '5', '1', '3', '8', '2', '1', '6', '7', '0', '1', '1', '3', '9',\n",
       "       '5', '4', '1', '9', '5', '1', '7', '8', '1', '7', '6', '0', '0',\n",
       "       '9', '6', '2', '1', '8', '2', '9', '1', '2', '9', '5', '5', '5',\n",
       "       '7', '9', '3', '8', '2', '0', '4', '5', '5', '1', '4', '2', '5',\n",
       "       '0', '9', '4', '7', '7', '5', '2', '2', '5', '4', '8', '0', '0',\n",
       "       '8', '8', '0', '9', '7', '1', '6', '2', '5', '3', '5', '8', '0',\n",
       "       '0', '8', '7', '6', '8', '4', '1', '3', '8', '5', '4', '9', '4',\n",
       "       '4', '6', '4', '0', '9', '7', '9', '8', '6', '0', '6', '4', '6',\n",
       "       '1', '3', '9', '2', '9', '0', '3', '7', '8', '6', '6'],\n",
       "      dtype=object)"
      ]
     },
     "execution_count": 33,
     "metadata": {},
     "output_type": "execute_result"
    }
   ],
   "source": [
    "%time my_clf.predict(X_test)"
   ]
  },
  {
   "cell_type": "code",
   "execution_count": 34,
   "metadata": {},
   "outputs": [
    {
     "name": "stdout",
     "output_type": "stream",
     "text": [
      "Wall time: 1min 37s\n"
     ]
    },
    {
     "data": {
      "text/plain": [
       "array([[0., 0., 0., ..., 0., 0., 0.],\n",
       "       [0., 0., 0., ..., 0., 0., 0.],\n",
       "       [0., 0., 0., ..., 0., 0., 0.],\n",
       "       ...,\n",
       "       [0., 0., 0., ..., 0., 1., 0.],\n",
       "       [0., 0., 0., ..., 0., 0., 0.],\n",
       "       [0., 0., 0., ..., 0., 0., 0.]])"
      ]
     },
     "execution_count": 34,
     "metadata": {},
     "output_type": "execute_result"
    }
   ],
   "source": [
    "%time clf.predict_proba(X_test)"
   ]
  },
  {
   "cell_type": "code",
   "execution_count": 35,
   "metadata": {},
   "outputs": [
    {
     "name": "stdout",
     "output_type": "stream",
     "text": [
      "Wall time: 3.71 s\n"
     ]
    },
    {
     "data": {
      "text/plain": [
       "array([[0., 0., 0., ..., 0., 0., 0.],\n",
       "       [0., 0., 0., ..., 0., 0., 0.],\n",
       "       [0., 0., 0., ..., 0., 0., 0.],\n",
       "       ...,\n",
       "       [0., 0., 0., ..., 0., 1., 0.],\n",
       "       [0., 0., 0., ..., 0., 0., 0.],\n",
       "       [0., 0., 0., ..., 0., 0., 0.]])"
      ]
     },
     "execution_count": 35,
     "metadata": {},
     "output_type": "execute_result"
    }
   ],
   "source": [
    "%time my_clf.predict_proba(X_test)"
   ]
  },
  {
   "cell_type": "code",
   "execution_count": 36,
   "metadata": {},
   "outputs": [
    {
     "data": {
      "text/plain": [
       "0.9757142857142858"
      ]
     },
     "execution_count": 36,
     "metadata": {},
     "output_type": "execute_result"
    }
   ],
   "source": [
    "clf.score(X_test, y_test)"
   ]
  },
  {
   "cell_type": "code",
   "execution_count": 37,
   "metadata": {},
   "outputs": [
    {
     "name": "stderr",
     "output_type": "stream",
     "text": [
      "D:\\Anacondas\\lib\\site-packages\\scipy\\stats\\stats.py:245: RuntimeWarning: The input array could not be properly checked for nan values. nan values will be ignored.\n",
      "  \"values. nan values will be ignored.\", RuntimeWarning)\n"
     ]
    },
    {
     "data": {
      "text/plain": [
       "0.9757142857142858"
      ]
     },
     "execution_count": 37,
     "metadata": {},
     "output_type": "execute_result"
    }
   ],
   "source": [
    "my_clf.score(X_test, y_test)\n"
   ]
  },
  {
   "cell_type": "markdown",
   "metadata": {},
   "source": [
    "Задание 4"
   ]
  },
  {
   "cell_type": "code",
   "execution_count": 38,
   "metadata": {},
   "outputs": [],
   "source": [
    "clf = KNeighborsClassifier(n_neighbors=2, algorithm='kd_tree')\n",
    "my_clf = MyKNeighborsClassifier(n_neighbors=2, algorithm='kd_tree')"
   ]
  },
  {
   "cell_type": "code",
   "execution_count": 41,
   "metadata": {},
   "outputs": [],
   "source": [
    "from sklearn.datasets import fetch_openml\n",
    "mnist = fetch_openml('mnist_784')\n",
    "X_train, X_test, y_train, y_test = train_test_split(mnist.data, mnist.target, test_size=0.01, stratify=mnist.target)\n"
   ]
  },
  {
   "cell_type": "code",
   "execution_count": 42,
   "metadata": {},
   "outputs": [
    {
     "name": "stdout",
     "output_type": "stream",
     "text": [
      "Wall time: 1min 3s\n"
     ]
    },
    {
     "data": {
      "text/plain": [
       "KNeighborsClassifier(algorithm='kd_tree', leaf_size=30, metric='minkowski',\n",
       "           metric_params=None, n_jobs=None, n_neighbors=2, p=2,\n",
       "           weights='uniform')"
      ]
     },
     "execution_count": 42,
     "metadata": {},
     "output_type": "execute_result"
    }
   ],
   "source": [
    "%time clf.fit(X_train, y_train)"
   ]
  },
  {
   "cell_type": "code",
   "execution_count": 43,
   "metadata": {},
   "outputs": [
    {
     "name": "stdout",
     "output_type": "stream",
     "text": [
      "Wall time: 1min 7s\n"
     ]
    }
   ],
   "source": [
    "%time my_clf.fit(X_train, y_train)"
   ]
  },
  {
   "cell_type": "code",
   "execution_count": 44,
   "metadata": {},
   "outputs": [
    {
     "name": "stdout",
     "output_type": "stream",
     "text": [
      "Wall time: 1min 43s\n"
     ]
    },
    {
     "data": {
      "text/plain": [
       "array(['8', '6', '2', '9', '9', '4', '9', '0', '4', '3', '2', '0', '2',\n",
       "       '2', '1', '3', '5', '1', '3', '5', '7', '6', '1', '3', '8', '0',\n",
       "       '3', '8', '5', '1', '6', '2', '9', '3', '3', '2', '1', '1', '3',\n",
       "       '2', '2', '9', '2', '7', '2', '6', '6', '3', '2', '6', '5', '0',\n",
       "       '5', '3', '8', '9', '4', '5', '8', '1', '4', '1', '5', '1', '1',\n",
       "       '6', '8', '9', '7', '8', '6', '8', '4', '7', '9', '6', '3', '6',\n",
       "       '0', '7', '7', '5', '1', '1', '5', '6', '8', '2', '4', '1', '7',\n",
       "       '0', '4', '1', '3', '3', '8', '6', '5', '1', '4', '7', '0', '4',\n",
       "       '3', '3', '7', '4', '6', '2', '5', '7', '2', '4', '5', '2', '5',\n",
       "       '6', '9', '7', '3', '2', '8', '1', '3', '0', '2', '9', '7', '8',\n",
       "       '9', '2', '8', '7', '9', '8', '0', '4', '3', '5', '1', '8', '6',\n",
       "       '6', '5', '0', '4', '5', '4', '9', '7', '4', '0', '9', '3', '1',\n",
       "       '2', '6', '0', '3', '1', '0', '9', '4', '6', '8', '9', '2', '3',\n",
       "       '2', '1', '5', '8', '2', '2', '1', '4', '8', '8', '0', '0', '4',\n",
       "       '2', '9', '7', '7', '6', '2', '8', '9', '0', '5', '2', '5', '9',\n",
       "       '0', '6', '1', '6', '4', '0', '8', '0', '5', '5', '4', '3', '0',\n",
       "       '0', '1', '4', '5', '1', '5', '2', '6', '4', '4', '3', '1', '7',\n",
       "       '8', '4', '7', '4', '5', '4', '6', '8', '9', '8', '1', '9', '1',\n",
       "       '0', '4', '9', '1', '0', '4', '2', '6', '6', '3', '8', '7', '9',\n",
       "       '0', '8', '1', '6', '3', '4', '1', '0', '1', '8', '7', '7', '1',\n",
       "       '7', '9', '2', '3', '7', '8', '1', '3', '9', '1', '2', '4', '8',\n",
       "       '7', '5', '4', '6', '5', '6', '1', '1', '9', '1', '6', '6', '6',\n",
       "       '6', '0', '8', '8', '0', '1', '5', '4', '1', '2', '4', '0', '0',\n",
       "       '7', '4', '5', '0', '8', '7', '4', '3', '4', '9', '2', '6', '1',\n",
       "       '1', '3', '8', '4', '2', '6', '1', '8', '3', '0', '2', '3', '2',\n",
       "       '7', '5', '2', '2', '3', '4', '5', '9', '0', '3', '3', '3', '8',\n",
       "       '3', '8', '2', '4', '5', '3', '2', '0', '7', '9', '5', '3', '6',\n",
       "       '6', '7', '5', '5', '9', '1', '9', '4', '6', '2', '3', '5', '0',\n",
       "       '7', '6', '2', '8', '3', '6', '9', '1', '1', '2', '5', '0', '4',\n",
       "       '7', '2', '9', '0', '8', '5', '3', '5', '0', '8', '7', '8', '6',\n",
       "       '0', '7', '7', '7', '7', '4', '3', '9', '1', '0', '0', '0', '7',\n",
       "       '9', '3', '1', '0', '8', '7', '7', '8', '9', '8', '3', '7', '4',\n",
       "       '7', '9', '3', '6', '6', '0', '7', '3', '2', '1', '1', '1', '3',\n",
       "       '0', '4', '7', '9', '7', '3', '1', '3', '5', '2', '6', '9', '6',\n",
       "       '1', '3', '1', '1', '7', '8', '3', '0', '0', '3', '7', '8', '4',\n",
       "       '5', '5', '0', '8', '6', '6', '8', '3', '4', '6', '4', '9', '0',\n",
       "       '2', '2', '6', '0', '1', '0', '0', '6', '3', '3', '2', '4', '2',\n",
       "       '0', '8', '7', '5', '7', '5', '4', '5', '1', '7', '9', '0', '4',\n",
       "       '0', '6', '6', '6', '6', '3', '8', '9', '2', '2', '7', '4', '9',\n",
       "       '4', '9', '6', '9', '1', '9', '2', '0', '8', '9', '4', '9', '6',\n",
       "       '2', '1', '1', '2', '3', '5', '0', '4', '7', '9', '4', '7', '1',\n",
       "       '2', '6', '1', '2', '9', '5', '7', '8', '6', '4', '8', '8', '9',\n",
       "       '3', '5', '2', '7', '0', '5', '9', '1', '9', '1', '8', '8', '2',\n",
       "       '7', '9', '3', '7', '0', '7', '4', '0', '6', '4', '9', '9', '0',\n",
       "       '8', '8', '9', '8', '6', '1', '7', '1', '9', '4', '3', '8', '4',\n",
       "       '2', '2', '0', '7', '5', '3', '4', '6', '9', '1', '5', '1', '4',\n",
       "       '6', '1', '5', '3', '1', '2', '1', '0', '7', '8', '6', '4', '1',\n",
       "       '1', '3', '3', '3', '5', '7', '7', '5', '7', '6', '3', '1', '6',\n",
       "       '7', '1', '2', '7', '0', '5', '5', '4', '7', '0', '0', '4', '1',\n",
       "       '4', '7', '3', '3', '0', '7', '9', '3', '9', '5', '8', '6', '0',\n",
       "       '9', '7', '7', '2', '3', '9', '9', '3', '9', '8', '3', '6', '5',\n",
       "       '8', '2', '4', '3', '5', '7', '8', '7', '1', '2', '9', '6', '2',\n",
       "       '9', '4', '0', '4', '2', '5', '0', '1', '0', '1', '9', '0', '2',\n",
       "       '5', '3', '2', '4', '2', '1', '3', '2', '6', '8', '5'],\n",
       "      dtype=object)"
      ]
     },
     "execution_count": 44,
     "metadata": {},
     "output_type": "execute_result"
    }
   ],
   "source": [
    "%time clf.predict(X_test)"
   ]
  },
  {
   "cell_type": "code",
   "execution_count": 45,
   "metadata": {},
   "outputs": [
    {
     "name": "stdout",
     "output_type": "stream",
     "text": [
      "Wall time: 1min 22s\n"
     ]
    },
    {
     "name": "stderr",
     "output_type": "stream",
     "text": [
      "D:\\Anacondas\\lib\\site-packages\\scipy\\stats\\stats.py:245: RuntimeWarning: The input array could not be properly checked for nan values. nan values will be ignored.\n",
      "  \"values. nan values will be ignored.\", RuntimeWarning)\n"
     ]
    },
    {
     "data": {
      "text/plain": [
       "array(['8', '6', '2', '9', '9', '4', '9', '0', '4', '3', '2', '0', '2',\n",
       "       '2', '1', '3', '5', '1', '3', '5', '7', '6', '1', '3', '8', '0',\n",
       "       '3', '8', '5', '1', '6', '2', '9', '3', '3', '2', '1', '1', '3',\n",
       "       '2', '2', '9', '2', '7', '2', '6', '6', '3', '2', '6', '5', '0',\n",
       "       '5', '3', '8', '9', '4', '5', '8', '1', '4', '1', '5', '1', '1',\n",
       "       '6', '8', '9', '7', '8', '6', '8', '4', '7', '9', '6', '3', '6',\n",
       "       '0', '7', '7', '5', '1', '1', '5', '6', '8', '2', '4', '1', '7',\n",
       "       '0', '4', '1', '3', '3', '8', '6', '5', '1', '4', '7', '0', '4',\n",
       "       '3', '3', '7', '4', '6', '2', '5', '7', '2', '4', '5', '2', '5',\n",
       "       '6', '9', '7', '3', '2', '8', '1', '3', '0', '2', '9', '7', '8',\n",
       "       '9', '2', '8', '7', '9', '8', '0', '4', '3', '5', '1', '8', '6',\n",
       "       '6', '5', '0', '4', '5', '4', '9', '7', '4', '0', '9', '3', '1',\n",
       "       '2', '6', '0', '3', '1', '0', '9', '4', '6', '8', '9', '2', '3',\n",
       "       '2', '1', '5', '8', '2', '2', '1', '4', '8', '8', '0', '0', '4',\n",
       "       '2', '9', '7', '7', '6', '2', '8', '9', '0', '5', '2', '5', '9',\n",
       "       '0', '6', '1', '6', '4', '0', '8', '0', '5', '5', '4', '3', '0',\n",
       "       '0', '1', '4', '5', '1', '5', '2', '6', '4', '4', '3', '1', '7',\n",
       "       '8', '4', '7', '4', '5', '4', '6', '8', '9', '8', '1', '9', '1',\n",
       "       '0', '4', '9', '1', '0', '4', '2', '6', '6', '3', '8', '7', '9',\n",
       "       '0', '8', '1', '6', '3', '4', '1', '0', '1', '8', '7', '7', '1',\n",
       "       '7', '9', '2', '3', '7', '8', '1', '3', '9', '1', '2', '4', '8',\n",
       "       '7', '5', '4', '6', '5', '6', '1', '1', '9', '1', '6', '6', '6',\n",
       "       '6', '0', '8', '8', '0', '1', '5', '4', '1', '2', '4', '0', '0',\n",
       "       '7', '4', '5', '0', '8', '7', '4', '3', '4', '9', '2', '6', '1',\n",
       "       '1', '3', '8', '4', '2', '6', '1', '8', '3', '0', '2', '3', '2',\n",
       "       '7', '5', '2', '2', '3', '4', '5', '9', '0', '3', '3', '3', '8',\n",
       "       '3', '8', '2', '4', '5', '3', '2', '0', '7', '9', '5', '3', '6',\n",
       "       '6', '7', '5', '5', '9', '1', '9', '4', '6', '2', '3', '5', '0',\n",
       "       '7', '6', '2', '8', '3', '6', '9', '1', '1', '2', '5', '0', '4',\n",
       "       '7', '2', '9', '0', '8', '5', '3', '5', '0', '8', '7', '8', '6',\n",
       "       '0', '7', '7', '7', '7', '4', '3', '9', '1', '0', '0', '0', '7',\n",
       "       '9', '3', '1', '0', '8', '7', '7', '8', '9', '8', '3', '7', '4',\n",
       "       '7', '9', '3', '6', '6', '0', '7', '3', '2', '1', '1', '1', '3',\n",
       "       '0', '4', '7', '9', '7', '3', '1', '3', '5', '2', '6', '9', '6',\n",
       "       '1', '3', '1', '1', '7', '8', '3', '0', '0', '3', '7', '8', '4',\n",
       "       '5', '5', '0', '8', '6', '6', '8', '3', '4', '6', '4', '9', '0',\n",
       "       '2', '2', '6', '0', '1', '0', '0', '6', '3', '3', '2', '4', '2',\n",
       "       '0', '8', '7', '5', '7', '5', '4', '5', '1', '7', '9', '0', '4',\n",
       "       '0', '6', '6', '6', '6', '3', '8', '9', '2', '2', '7', '4', '9',\n",
       "       '4', '9', '6', '9', '1', '9', '2', '0', '8', '9', '4', '9', '6',\n",
       "       '2', '1', '1', '2', '3', '5', '0', '4', '7', '9', '4', '7', '1',\n",
       "       '2', '6', '1', '2', '9', '5', '7', '8', '6', '4', '8', '8', '9',\n",
       "       '3', '5', '2', '7', '0', '5', '9', '1', '9', '1', '8', '8', '2',\n",
       "       '7', '9', '3', '7', '0', '7', '4', '0', '6', '4', '9', '9', '0',\n",
       "       '8', '8', '9', '8', '6', '1', '7', '1', '9', '4', '3', '8', '4',\n",
       "       '2', '2', '0', '7', '5', '3', '4', '6', '9', '1', '5', '1', '4',\n",
       "       '6', '1', '5', '3', '1', '2', '1', '0', '7', '8', '6', '4', '1',\n",
       "       '1', '3', '3', '3', '5', '7', '7', '5', '7', '6', '3', '1', '6',\n",
       "       '7', '1', '2', '7', '0', '5', '5', '4', '7', '0', '0', '4', '1',\n",
       "       '4', '7', '3', '3', '0', '7', '9', '3', '9', '5', '8', '6', '0',\n",
       "       '9', '7', '7', '2', '3', '9', '9', '3', '9', '8', '3', '6', '5',\n",
       "       '8', '2', '4', '3', '5', '7', '8', '7', '1', '2', '9', '6', '2',\n",
       "       '9', '4', '0', '4', '2', '5', '0', '1', '0', '1', '9', '0', '2',\n",
       "       '5', '3', '2', '4', '2', '1', '3', '2', '6', '8', '5'],\n",
       "      dtype=object)"
      ]
     },
     "execution_count": 45,
     "metadata": {},
     "output_type": "execute_result"
    }
   ],
   "source": [
    "%time my_clf.predict(X_test)"
   ]
  },
  {
   "cell_type": "code",
   "execution_count": 46,
   "metadata": {},
   "outputs": [
    {
     "name": "stdout",
     "output_type": "stream",
     "text": [
      "Wall time: 1min 44s\n"
     ]
    },
    {
     "data": {
      "text/plain": [
       "array([[0., 0., 0., ..., 0., 1., 0.],\n",
       "       [0., 0., 0., ..., 0., 0., 0.],\n",
       "       [0., 0., 1., ..., 0., 0., 0.],\n",
       "       ...,\n",
       "       [0., 0., 0., ..., 0., 0., 0.],\n",
       "       [0., 0., 0., ..., 0., 1., 0.],\n",
       "       [0., 0., 0., ..., 0., 0., 0.]])"
      ]
     },
     "execution_count": 46,
     "metadata": {},
     "output_type": "execute_result"
    }
   ],
   "source": [
    "%time clf.predict_proba(X_test)"
   ]
  },
  {
   "cell_type": "code",
   "execution_count": 47,
   "metadata": {},
   "outputs": [
    {
     "name": "stdout",
     "output_type": "stream",
     "text": [
      "Wall time: 1min 20s\n"
     ]
    },
    {
     "data": {
      "text/plain": [
       "array([[0., 0., 0., ..., 0., 1., 0.],\n",
       "       [0., 0., 0., ..., 0., 0., 0.],\n",
       "       [0., 0., 1., ..., 0., 0., 0.],\n",
       "       ...,\n",
       "       [0., 0., 0., ..., 0., 0., 0.],\n",
       "       [0., 0., 0., ..., 0., 1., 0.],\n",
       "       [0., 0., 0., ..., 0., 0., 0.]])"
      ]
     },
     "execution_count": 47,
     "metadata": {},
     "output_type": "execute_result"
    }
   ],
   "source": [
    "%time my_clf.predict_proba(X_test)"
   ]
  },
  {
   "cell_type": "code",
   "execution_count": 48,
   "metadata": {},
   "outputs": [
    {
     "data": {
      "text/plain": [
       "0.9728571428571429"
      ]
     },
     "execution_count": 48,
     "metadata": {},
     "output_type": "execute_result"
    }
   ],
   "source": [
    "clf.score(X_test, y_test)"
   ]
  },
  {
   "cell_type": "code",
   "execution_count": 49,
   "metadata": {},
   "outputs": [
    {
     "name": "stderr",
     "output_type": "stream",
     "text": [
      "D:\\Anacondas\\lib\\site-packages\\scipy\\stats\\stats.py:245: RuntimeWarning: The input array could not be properly checked for nan values. nan values will be ignored.\n",
      "  \"values. nan values will be ignored.\", RuntimeWarning)\n"
     ]
    },
    {
     "data": {
      "text/plain": [
       "0.9728571428571429"
      ]
     },
     "execution_count": 49,
     "metadata": {},
     "output_type": "execute_result"
    }
   ],
   "source": [
    "my_clf.score(X_test, y_test)"
   ]
  },
  {
   "cell_type": "markdown",
   "metadata": {},
   "source": [
    "Задание 5"
   ]
  },
  {
   "cell_type": "code",
   "execution_count": 50,
   "metadata": {},
   "outputs": [],
   "source": [
    "# seaborn\n",
    "# matplotlib\n",
    "# train_test_split\n",
    "# Pipelin%load_ext e (from sklearn.pipeline import Pipeline)\n",
    "# StandardScaler (from sklearn.preprocessing import StandardScaler)\n",
    "# ClassifierMixin\n",
    "# NeighborsBase\n",
    "# KNeighborsMixin\n",
    "# SupervisedIntegerMixin"
   ]
  },
  {
   "cell_type": "code",
   "execution_count": 51,
   "metadata": {},
   "outputs": [],
   "source": [
    "# seaborn - библиотека для визуализации данных на основе matplotlib"
   ]
  },
  {
   "cell_type": "code",
   "execution_count": 52,
   "metadata": {},
   "outputs": [],
   "source": [
    "# matplotlib - библиотека с методами построения различных графиков, гистограмм и аналогичных"
   ]
  },
  {
   "cell_type": "code",
   "execution_count": 53,
   "metadata": {},
   "outputs": [],
   "source": [
    "# train_test_split - функция, делящая выборку на обучающую и тестовую"
   ]
  },
  {
   "cell_type": "code",
   "execution_count": 54,
   "metadata": {},
   "outputs": [],
   "source": [
    "# Pipelin%load_ext e (from sklearn.pipeline import Pipeline) - функция, позволяющая последовательно преобразовывать данные"
   ]
  },
  {
   "cell_type": "code",
   "execution_count": 55,
   "metadata": {},
   "outputs": [],
   "source": [
    "# StandardScaler (from sklearn.preprocessing import StandardScaler) - класс для вычисления мат. ожидания и дисперсии"
   ]
  },
  {
   "cell_type": "code",
   "execution_count": 56,
   "metadata": {},
   "outputs": [],
   "source": [
    "# ClassifierMixin - класс, от которого наследуются все классификаторы из sclearn"
   ]
  },
  {
   "cell_type": "code",
   "execution_count": 57,
   "metadata": {},
   "outputs": [],
   "source": [
    "# NeighborsBase - класс KNN"
   ]
  },
  {
   "cell_type": "code",
   "execution_count": 58,
   "metadata": {},
   "outputs": [],
   "source": [
    "# KNeighborsMixin - класс поиска ближайших соседей"
   ]
  },
  {
   "cell_type": "code",
   "execution_count": 59,
   "metadata": {},
   "outputs": [],
   "source": [
    "# SupervisedIntegerMixin- класс метода fit"
   ]
  },
  {
   "cell_type": "code",
   "execution_count": null,
   "metadata": {},
   "outputs": [],
   "source": []
  }
 ],
 "metadata": {
  "kernelspec": {
   "display_name": "Python 3",
   "language": "python",
   "name": "python3"
  },
  "language_info": {
   "codemirror_mode": {
    "name": "ipython",
    "version": 3
   },
   "file_extension": ".py",
   "mimetype": "text/x-python",
   "name": "python",
   "nbconvert_exporter": "python",
   "pygments_lexer": "ipython3",
   "version": "3.7.1"
  }
 },
 "nbformat": 4,
 "nbformat_minor": 2
}
