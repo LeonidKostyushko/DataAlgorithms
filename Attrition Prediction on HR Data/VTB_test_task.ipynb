{
  "nbformat": 4,
  "nbformat_minor": 0,
  "metadata": {
    "kernelspec": {
      "display_name": "Python 3",
      "language": "python",
      "name": "python3"
    },
    "language_info": {
      "codemirror_mode": {
        "name": "ipython",
        "version": 3
      },
      "file_extension": ".py",
      "mimetype": "text/x-python",
      "name": "python",
      "nbconvert_exporter": "python",
      "pygments_lexer": "ipython3",
      "version": "3.7.1"
    },
    "colab": {
      "name": "VTB_test_task.ipynb",
      "provenance": []
    }
  },
  "cells": [
    {
      "cell_type": "code",
      "metadata": {
        "id": "yvIhyrNmfWzq",
        "colab_type": "code",
        "colab": {}
      },
      "source": [
        "pip install catboost"
      ],
      "execution_count": 0,
      "outputs": []
    },
    {
      "cell_type": "code",
      "metadata": {
        "id": "i-QZqoxCfcM5",
        "colab_type": "code",
        "colab": {}
      },
      "source": [
        "pip install xgboost"
      ],
      "execution_count": 0,
      "outputs": []
    },
    {
      "cell_type": "code",
      "metadata": {
        "id": "Lmi0Elk2fZJ5",
        "colab_type": "code",
        "colab": {}
      },
      "source": [
        "import numpy as np\n",
        "import pandas as pd\n",
        "import matplotlib.pyplot as plt\n",
        "\n",
        "from catboost import CatBoostClassifier, Pool\n",
        "from catboost import cv\n",
        "\n",
        "import xgboost as xgb\n",
        "\n",
        "from sklearn.decomposition import PCA\n",
        "from sklearn import decomposition\n",
        "\n",
        "from sklearn.model_selection import KFold\n",
        "from sklearn.model_selection import train_test_split\n",
        "\n",
        "import warnings\n",
        "warnings.filterwarnings(\"ignore\")"
      ],
      "execution_count": 0,
      "outputs": []
    },
    {
      "cell_type": "code",
      "metadata": {
        "id": "GJbS3u5af0h7",
        "colab_type": "code",
        "colab": {}
      },
      "source": [
        "from google.colab import drive\n",
        "drive.mount('/content/drive')"
      ],
      "execution_count": 0,
      "outputs": []
    },
    {
      "cell_type": "code",
      "metadata": {
        "id": "4D2AZABSfWz1",
        "colab_type": "code",
        "colab": {
          "base_uri": "https://localhost:8080/",
          "height": 223
        },
        "outputId": "55be5480-1312-4566-98c0-103d2625188f"
      },
      "source": [
        "train_df = pd.read_csv('/content/drive/My Drive/vtb/training_data.csv')\n",
        "print(train_df.shape)\n",
        "train_df.head(3)"
      ],
      "execution_count": 5,
      "outputs": [
        {
          "output_type": "stream",
          "text": [
            "(2646, 20)\n"
          ],
          "name": "stdout"
        },
        {
          "output_type": "execute_result",
          "data": {
            "text/html": [
              "<div>\n",
              "<style scoped>\n",
              "    .dataframe tbody tr th:only-of-type {\n",
              "        vertical-align: middle;\n",
              "    }\n",
              "\n",
              "    .dataframe tbody tr th {\n",
              "        vertical-align: top;\n",
              "    }\n",
              "\n",
              "    .dataframe thead th {\n",
              "        text-align: right;\n",
              "    }\n",
              "</style>\n",
              "<table border=\"1\" class=\"dataframe\">\n",
              "  <thead>\n",
              "    <tr style=\"text-align: right;\">\n",
              "      <th></th>\n",
              "      <th>Age</th>\n",
              "      <th>BusinessTravel</th>\n",
              "      <th>Department</th>\n",
              "      <th>DistanceFromHome</th>\n",
              "      <th>Education</th>\n",
              "      <th>EducationField</th>\n",
              "      <th>Gender</th>\n",
              "      <th>JobRole</th>\n",
              "      <th>MaritalStatus</th>\n",
              "      <th>MonthlyIncome</th>\n",
              "      <th>NumCompaniesWorked</th>\n",
              "      <th>PercentSalaryHike</th>\n",
              "      <th>StandardHours</th>\n",
              "      <th>StockOptionLevel</th>\n",
              "      <th>TotalWorkingYears</th>\n",
              "      <th>TrainingTimesLastYear</th>\n",
              "      <th>YearsAtCompany</th>\n",
              "      <th>YearsSinceLastPromotion</th>\n",
              "      <th>YearsWithCurrManager</th>\n",
              "      <th>Attrition</th>\n",
              "    </tr>\n",
              "  </thead>\n",
              "  <tbody>\n",
              "    <tr>\n",
              "      <th>0</th>\n",
              "      <td>36</td>\n",
              "      <td>Travel_Rarely</td>\n",
              "      <td>Sales</td>\n",
              "      <td>5.0</td>\n",
              "      <td>3</td>\n",
              "      <td>Technical Degree</td>\n",
              "      <td>Male</td>\n",
              "      <td>Sales Executive</td>\n",
              "      <td>Single</td>\n",
              "      <td>54050.0</td>\n",
              "      <td>4.0</td>\n",
              "      <td>14</td>\n",
              "      <td>8.0</td>\n",
              "      <td>0</td>\n",
              "      <td>10.0</td>\n",
              "      <td>2.0</td>\n",
              "      <td>8</td>\n",
              "      <td>7</td>\n",
              "      <td>104</td>\n",
              "      <td>0</td>\n",
              "    </tr>\n",
              "    <tr>\n",
              "      <th>1</th>\n",
              "      <td>45</td>\n",
              "      <td>Travel_Rarely</td>\n",
              "      <td>Sales</td>\n",
              "      <td>3.0</td>\n",
              "      <td>3</td>\n",
              "      <td>Life Sciences</td>\n",
              "      <td>Male</td>\n",
              "      <td>Healthcare Representative</td>\n",
              "      <td>Single</td>\n",
              "      <td>60740.0</td>\n",
              "      <td>0.0</td>\n",
              "      <td>14</td>\n",
              "      <td>8.0</td>\n",
              "      <td>0</td>\n",
              "      <td>9.0</td>\n",
              "      <td>2.0</td>\n",
              "      <td>8</td>\n",
              "      <td>3</td>\n",
              "      <td>1</td>\n",
              "      <td>0</td>\n",
              "    </tr>\n",
              "    <tr>\n",
              "      <th>2</th>\n",
              "      <td>51</td>\n",
              "      <td>Travel_Rarely</td>\n",
              "      <td>Sales</td>\n",
              "      <td>23.0</td>\n",
              "      <td>3</td>\n",
              "      <td>Medical</td>\n",
              "      <td>Female</td>\n",
              "      <td>Research Scientist</td>\n",
              "      <td>Married</td>\n",
              "      <td>192720.0</td>\n",
              "      <td>9.0</td>\n",
              "      <td>20</td>\n",
              "      <td>8.0</td>\n",
              "      <td>0</td>\n",
              "      <td>18.0</td>\n",
              "      <td>2.0</td>\n",
              "      <td>10</td>\n",
              "      <td>2</td>\n",
              "      <td>7</td>\n",
              "      <td>1</td>\n",
              "    </tr>\n",
              "  </tbody>\n",
              "</table>\n",
              "</div>"
            ],
            "text/plain": [
              "   Age BusinessTravel  ... YearsWithCurrManager  Attrition\n",
              "0   36  Travel_Rarely  ...                  104          0\n",
              "1   45  Travel_Rarely  ...                    1          0\n",
              "2   51  Travel_Rarely  ...                    7          1\n",
              "\n",
              "[3 rows x 20 columns]"
            ]
          },
          "metadata": {
            "tags": []
          },
          "execution_count": 5
        }
      ]
    },
    {
      "cell_type": "code",
      "metadata": {
        "id": "agvT6mMKfWz-",
        "colab_type": "code",
        "colab": {
          "base_uri": "https://localhost:8080/",
          "height": 223
        },
        "outputId": "f8ce35e8-0ea7-46c7-dd5d-9052b9e60a0c"
      },
      "source": [
        "test_df = pd.read_csv('/content/drive/My Drive/vtb/test_data.csv')\n",
        "print(test_df.shape)\n",
        "test_df.head(3)"
      ],
      "execution_count": 6,
      "outputs": [
        {
          "output_type": "stream",
          "text": [
            "(1764, 20)\n"
          ],
          "name": "stdout"
        },
        {
          "output_type": "execute_result",
          "data": {
            "text/html": [
              "<div>\n",
              "<style scoped>\n",
              "    .dataframe tbody tr th:only-of-type {\n",
              "        vertical-align: middle;\n",
              "    }\n",
              "\n",
              "    .dataframe tbody tr th {\n",
              "        vertical-align: top;\n",
              "    }\n",
              "\n",
              "    .dataframe thead th {\n",
              "        text-align: right;\n",
              "    }\n",
              "</style>\n",
              "<table border=\"1\" class=\"dataframe\">\n",
              "  <thead>\n",
              "    <tr style=\"text-align: right;\">\n",
              "      <th></th>\n",
              "      <th>Age</th>\n",
              "      <th>BusinessTravel</th>\n",
              "      <th>Department</th>\n",
              "      <th>DistanceFromHome</th>\n",
              "      <th>Education</th>\n",
              "      <th>EducationField</th>\n",
              "      <th>Gender</th>\n",
              "      <th>JobRole</th>\n",
              "      <th>MaritalStatus</th>\n",
              "      <th>MonthlyIncome</th>\n",
              "      <th>NumCompaniesWorked</th>\n",
              "      <th>PercentSalaryHike</th>\n",
              "      <th>StandardHours</th>\n",
              "      <th>StockOptionLevel</th>\n",
              "      <th>TotalWorkingYears</th>\n",
              "      <th>TrainingTimesLastYear</th>\n",
              "      <th>YearsAtCompany</th>\n",
              "      <th>YearsSinceLastPromotion</th>\n",
              "      <th>YearsWithCurrManager</th>\n",
              "      <th>Id</th>\n",
              "    </tr>\n",
              "  </thead>\n",
              "  <tbody>\n",
              "    <tr>\n",
              "      <th>0</th>\n",
              "      <td>40</td>\n",
              "      <td>Travel_Rarely</td>\n",
              "      <td>Research &amp; Development</td>\n",
              "      <td>23.0</td>\n",
              "      <td>3</td>\n",
              "      <td>Medical</td>\n",
              "      <td>Female</td>\n",
              "      <td>Laboratory Technician</td>\n",
              "      <td>Married</td>\n",
              "      <td>45020.0</td>\n",
              "      <td>8.0</td>\n",
              "      <td>12</td>\n",
              "      <td>8.0</td>\n",
              "      <td>2</td>\n",
              "      <td>15.0</td>\n",
              "      <td>0.0</td>\n",
              "      <td>7</td>\n",
              "      <td>3</td>\n",
              "      <td>7</td>\n",
              "      <td>0</td>\n",
              "    </tr>\n",
              "    <tr>\n",
              "      <th>1</th>\n",
              "      <td>35</td>\n",
              "      <td>Travel_Rarely</td>\n",
              "      <td>Human Resources</td>\n",
              "      <td>15.0</td>\n",
              "      <td>1</td>\n",
              "      <td>Life Sciences</td>\n",
              "      <td>Male</td>\n",
              "      <td>Research Scientist</td>\n",
              "      <td>Married</td>\n",
              "      <td>79880.0</td>\n",
              "      <td>1.0</td>\n",
              "      <td>18</td>\n",
              "      <td>8.0</td>\n",
              "      <td>0</td>\n",
              "      <td>4.0</td>\n",
              "      <td>3.0</td>\n",
              "      <td>4</td>\n",
              "      <td>1</td>\n",
              "      <td>1</td>\n",
              "      <td>1</td>\n",
              "    </tr>\n",
              "    <tr>\n",
              "      <th>2</th>\n",
              "      <td>59</td>\n",
              "      <td>Travel_Rarely</td>\n",
              "      <td>Research &amp; Development</td>\n",
              "      <td>4.0</td>\n",
              "      <td>2</td>\n",
              "      <td>Life Sciences</td>\n",
              "      <td>Male</td>\n",
              "      <td>Research Scientist</td>\n",
              "      <td>Single</td>\n",
              "      <td>166813.0</td>\n",
              "      <td>6.0</td>\n",
              "      <td>21</td>\n",
              "      <td>8.0</td>\n",
              "      <td>1</td>\n",
              "      <td>25.0</td>\n",
              "      <td>2.0</td>\n",
              "      <td>9</td>\n",
              "      <td>5</td>\n",
              "      <td>4</td>\n",
              "      <td>2</td>\n",
              "    </tr>\n",
              "  </tbody>\n",
              "</table>\n",
              "</div>"
            ],
            "text/plain": [
              "   Age BusinessTravel  ... YearsWithCurrManager  Id\n",
              "0   40  Travel_Rarely  ...                    7   0\n",
              "1   35  Travel_Rarely  ...                    1   1\n",
              "2   59  Travel_Rarely  ...                    4   2\n",
              "\n",
              "[3 rows x 20 columns]"
            ]
          },
          "metadata": {
            "tags": []
          },
          "execution_count": 6
        }
      ]
    },
    {
      "cell_type": "code",
      "metadata": {
        "id": "hSXOdpDJfW0H",
        "colab_type": "code",
        "colab": {}
      },
      "source": [
        "def preprocess(df, is_train=False):\n",
        "    \n",
        "    #clean anomally big values in YearsAtCompany\n",
        "    max_years_in_company = max(df['YearsAtCompany'])\n",
        "    \n",
        "    for val, i in enumerate(df['YearsWithCurrManager']):\n",
        "        if val  > max_years_in_company:\n",
        "            train_df['YearsWithCurrManager'][i] = 2\n",
        "        \n",
        "    #drop StandardHours as it contains 1 value\n",
        "    df = df.drop(['StandardHours'], axis=1)\n",
        "    \n",
        "    #clean anomally big and little values in Age\n",
        "    for val, i in enumerate(df['Age']):\n",
        "        if val > 70 or val < 18:\n",
        "            df['Age'][i] = 32\n",
        "\n",
        "    if is_train:\n",
        "        y = df['Attrition']\n",
        "        X = df.drop(['Attrition'], axis=1)\n",
        "        return X, y\n",
        "    else:\n",
        "        X = df.drop(['Id'], axis=1)\n",
        "        return X"
      ],
      "execution_count": 0,
      "outputs": []
    },
    {
      "cell_type": "code",
      "metadata": {
        "id": "5SeBDZJkfW0N",
        "colab_type": "code",
        "colab": {}
      },
      "source": [
        "data, labels = preprocess(train_df, True)\n",
        "test_data = preprocess(test_df)"
      ],
      "execution_count": 0,
      "outputs": []
    },
    {
      "cell_type": "markdown",
      "metadata": {
        "id": "IifoYbD6fW0S",
        "colab_type": "text"
      },
      "source": [
        "### Analysis"
      ]
    },
    {
      "cell_type": "code",
      "metadata": {
        "id": "5ljnIFeIfW0T",
        "colab_type": "code",
        "colab": {
          "base_uri": "https://localhost:8080/",
          "height": 97
        },
        "outputId": "30e11ad4-ae03-4a02-cbf9-7e8502d88ccc"
      },
      "source": [
        "class_per_column = {}\n",
        "for column in train_df.columns:\n",
        "    class_per_column[column] = [train_df[column].nunique()]\n",
        "class_per_column_df = pd.DataFrame(data=class_per_column)\n",
        "class_per_column_df.head()"
      ],
      "execution_count": 9,
      "outputs": [
        {
          "output_type": "execute_result",
          "data": {
            "text/html": [
              "<div>\n",
              "<style scoped>\n",
              "    .dataframe tbody tr th:only-of-type {\n",
              "        vertical-align: middle;\n",
              "    }\n",
              "\n",
              "    .dataframe tbody tr th {\n",
              "        vertical-align: top;\n",
              "    }\n",
              "\n",
              "    .dataframe thead th {\n",
              "        text-align: right;\n",
              "    }\n",
              "</style>\n",
              "<table border=\"1\" class=\"dataframe\">\n",
              "  <thead>\n",
              "    <tr style=\"text-align: right;\">\n",
              "      <th></th>\n",
              "      <th>Age</th>\n",
              "      <th>BusinessTravel</th>\n",
              "      <th>Department</th>\n",
              "      <th>DistanceFromHome</th>\n",
              "      <th>Education</th>\n",
              "      <th>EducationField</th>\n",
              "      <th>Gender</th>\n",
              "      <th>JobRole</th>\n",
              "      <th>MaritalStatus</th>\n",
              "      <th>MonthlyIncome</th>\n",
              "      <th>NumCompaniesWorked</th>\n",
              "      <th>PercentSalaryHike</th>\n",
              "      <th>StandardHours</th>\n",
              "      <th>StockOptionLevel</th>\n",
              "      <th>TotalWorkingYears</th>\n",
              "      <th>TrainingTimesLastYear</th>\n",
              "      <th>YearsAtCompany</th>\n",
              "      <th>YearsSinceLastPromotion</th>\n",
              "      <th>YearsWithCurrManager</th>\n",
              "      <th>Attrition</th>\n",
              "    </tr>\n",
              "  </thead>\n",
              "  <tbody>\n",
              "    <tr>\n",
              "      <th>0</th>\n",
              "      <td>43</td>\n",
              "      <td>3</td>\n",
              "      <td>3</td>\n",
              "      <td>30</td>\n",
              "      <td>5</td>\n",
              "      <td>6</td>\n",
              "      <td>2</td>\n",
              "      <td>9</td>\n",
              "      <td>3</td>\n",
              "      <td>1714</td>\n",
              "      <td>11</td>\n",
              "      <td>43</td>\n",
              "      <td>1</td>\n",
              "      <td>4</td>\n",
              "      <td>41</td>\n",
              "      <td>8</td>\n",
              "      <td>37</td>\n",
              "      <td>16</td>\n",
              "      <td>51</td>\n",
              "      <td>2</td>\n",
              "    </tr>\n",
              "  </tbody>\n",
              "</table>\n",
              "</div>"
            ],
            "text/plain": [
              "   Age  BusinessTravel  ...  YearsWithCurrManager  Attrition\n",
              "0   43               3  ...                    51          2\n",
              "\n",
              "[1 rows x 20 columns]"
            ]
          },
          "metadata": {
            "tags": []
          },
          "execution_count": 9
        }
      ]
    },
    {
      "cell_type": "markdown",
      "metadata": {
        "id": "tdJXYBnikm9q",
        "colab_type": "text"
      },
      "source": [
        "### Some feautures are nominal categorical"
      ]
    },
    {
      "cell_type": "code",
      "metadata": {
        "id": "kVEfC5eLfW0W",
        "colab_type": "code",
        "colab": {}
      },
      "source": [
        "label_cnt = train_df['Attrition'].value_counts()"
      ],
      "execution_count": 0,
      "outputs": []
    },
    {
      "cell_type": "code",
      "metadata": {
        "id": "-blAeM98fW0b",
        "colab_type": "code",
        "colab": {
          "base_uri": "https://localhost:8080/",
          "height": 67
        },
        "outputId": "68e45a8d-6be9-4a98-e24b-8d09235e5550"
      },
      "source": [
        "label_cnt"
      ],
      "execution_count": 11,
      "outputs": [
        {
          "output_type": "execute_result",
          "data": {
            "text/plain": [
              "0    2224\n",
              "1     422\n",
              "Name: Attrition, dtype: int64"
            ]
          },
          "metadata": {
            "tags": []
          },
          "execution_count": 11
        }
      ]
    },
    {
      "cell_type": "markdown",
      "metadata": {
        "id": "deHAWh6akTje",
        "colab_type": "text"
      },
      "source": [
        "#### Data is imbalanced => good decission to use tree based classifiers"
      ]
    },
    {
      "cell_type": "markdown",
      "metadata": {
        "id": "HW0xJX6PfW0f",
        "colab_type": "text"
      },
      "source": [
        "### Model 1. XGBoost with PCA after one hot encoding"
      ]
    },
    {
      "cell_type": "markdown",
      "metadata": {
        "id": "BwM8jeK8fW0g",
        "colab_type": "text"
      },
      "source": [
        "##### The paper of idea of PCA after one hot encoding https://arxiv.org/pdf/1909.00154.pdf"
      ]
    },
    {
      "cell_type": "code",
      "metadata": {
        "id": "vNwYXf6vfW0h",
        "colab_type": "code",
        "colab": {}
      },
      "source": [
        "#onehot encoding of nominal categorical feautures\n",
        "cat_features = ['BusinessTravel', 'Department', 'EducationField', 'Gender', 'JobRole', 'MaritalStatus']\n",
        "\n",
        "def df_to_onehot(df):\n",
        "    for column in cat_features:\n",
        "        gen_onehot_features = pd.get_dummies(data[column])\n",
        "        df = df.drop([column], axis=1)\n",
        "        \n",
        "        #for JobRole feature using PCA to reduce dim from 9 to 3, other feautures are already have a few dim\n",
        "        if column == 'JobRole':\n",
        "            pca = decomposition.PCA(n_components=3)\n",
        "            pca.fit(gen_onehot_features)\n",
        "            X = pca.transform(gen_onehot_features)\n",
        "            \n",
        "            df = pd.concat([df, pd.DataFrame(X, columns=['f1', 'f2', 'f3'])], axis=1)\n",
        "        else:\n",
        "            df = pd.concat([df, gen_onehot_features], axis=1)\n",
        "    \n",
        "    col = df['Human Resources'].iloc[:, :-1]\n",
        "    df = df.drop(['Human Resources'], axis=1)\n",
        "    df = pd.concat([df, col], axis=1)\n",
        "    \n",
        "    return df"
      ],
      "execution_count": 0,
      "outputs": []
    },
    {
      "cell_type": "code",
      "metadata": {
        "id": "kuILNUVXfW0m",
        "colab_type": "code",
        "colab": {}
      },
      "source": [
        "train_one_hot = df_to_onehot(data)\n",
        "test_one_hot = df_to_onehot(test_data)"
      ],
      "execution_count": 0,
      "outputs": []
    },
    {
      "cell_type": "code",
      "metadata": {
        "id": "7sFNZ2xjfW0q",
        "colab_type": "code",
        "colab": {}
      },
      "source": [
        "def xgboost_tune_params(df_train):\n",
        "    total_params =({'eval_metric': 'auc',\n",
        "             'objective': 'binary:logistic',\n",
        "             'tree_method': 'hist',\n",
        "             'seed':777,\n",
        "             'nthread':8\n",
        "              }) \n",
        "             \n",
        "    params_to_tune = [('eta', [0.1, 0.03, 0.5, 0.7]),\n",
        "                  ('max_depth',[2,3,4,5,6, 8, 10]),\n",
        "                  ('subsample', [0.8,0.9,1]),\n",
        "                  ('colsample_bytree', [0.5,0.6,0.7,0.8,0.9,1]),\n",
        "                  ('max_bin',[25,30,40,60,80,100, 200, 256, 300, 500, 1000]),\n",
        "                  ('min_child_weight',[1,5,7,10,15,50,75,100,130,160,200]),\n",
        "                  ('lambda',[0.01,0.1,1,3,5])\n",
        "            ]\n",
        "    \n",
        "    max_auc = 0\n",
        "    for param_pair in params_to_tune:\n",
        "        param_name = param_pair[0]  \n",
        "        param_auc_l = []\n",
        "        param_val_l = []\n",
        "        param_iter_n_l = []\n",
        "        for param_value in param_pair[1]:   \n",
        "            total_params[param_name] = param_value\n",
        "            result = []    \n",
        "\n",
        "            cross_val = xgb.cv(total_params, df_train, \n",
        "                          early_stopping_rounds=50, maximize=True, \n",
        "                          num_boost_round=1000, nfold=5, stratified=True, seed=777, verbose_eval=False)\n",
        "            \n",
        "            best_iter_vec = np.array(cross_val[cross_val['test-auc-mean']==cross_val['test-auc-mean'].max()])[0]\n",
        "            \n",
        "            best_iter_n = best_iter_vec[0]\n",
        "            best_mean_auc = best_iter_vec[1]\n",
        "            best_std_auc = best_iter_vec[2]\n",
        "            \n",
        "            \n",
        "            param_auc_l.append(best_mean_auc)\n",
        "            param_val_l.append(param_value)\n",
        "            param_iter_n_l.append(best_iter_n)\n",
        "        best_auc = np.max(np.array(param_auc_l))\n",
        "        best_val = param_val_l[np.argmax(np.array(param_auc_l))]\n",
        "        best_iter = param_iter_n_l[np.argmax(np.array(param_auc_l))]\n",
        "        \n",
        "        total_params[param_name] = best_val\n",
        "        total_params['iterations'] = best_iter\n",
        "        \n",
        "        plt.plot(param_val_l, param_auc_l)\n",
        "        plt.legend(param_name)\n",
        "        plt.show()\n",
        "        print(\"AUC on tuned \", param_name, \" : \", best_auc)\n",
        "        \n",
        "        max_auc = max(max_auc, best_auc)\n",
        "    \n",
        "    return total_params, max_auc"
      ],
      "execution_count": 0,
      "outputs": []
    },
    {
      "cell_type": "code",
      "metadata": {
        "id": "pqGzO8MwfW0w",
        "colab_type": "code",
        "colab": {}
      },
      "source": [
        "train_matr = xgb.DMatrix(train_one_hot, labels)\n",
        "params, max_auc = xgboost_tune_params(train_matr)"
      ],
      "execution_count": 0,
      "outputs": []
    },
    {
      "cell_type": "markdown",
      "metadata": {
        "id": "3H8ZG65HfW01",
        "colab_type": "text"
      },
      "source": [
        "### Catboost Classifier"
      ]
    },
    {
      "cell_type": "code",
      "metadata": {
        "id": "Kh7HSfEVfW02",
        "colab_type": "code",
        "colab": {}
      },
      "source": [
        "cat_features = ['BusinessTravel', 'Department', 'EducationField',\n",
        "               'Gender', 'JobRole', 'MaritalStatus']"
      ],
      "execution_count": 0,
      "outputs": []
    },
    {
      "cell_type": "code",
      "metadata": {
        "id": "Op5SVMI4fW09",
        "colab_type": "code",
        "colab": {}
      },
      "source": [
        "def catboost_tune_params(pool):\n",
        "    total_params =({'eval_metric': 'AUC',\n",
        "             'thread_count':8, \n",
        "             'random_seed':241,\n",
        "              'loss_function':'Logloss'\n",
        "             }) \n",
        "    \n",
        "    params_to_tune = [('learning_rate', [0.01, 0.03, 0.05, 0.07, 0.1]),\n",
        "                  ('depth', [2,3,4,6,8]),\n",
        "                  ('subsample', [0.8, 0.9, 1])\n",
        "                 ]\n",
        "    \n",
        "    max_auc = 0\n",
        "    for param_pair in params_to_tune:\n",
        "        param_name = param_pair[0] \n",
        "        param_auc_l = []\n",
        "        param_val_l = []\n",
        "        param_iter_n_l = []\n",
        "        for param_value in param_pair[1]:      \n",
        "            total_params[param_name] = param_value\n",
        "            result = []  \n",
        "\n",
        "            cross_val = cv(pool, total_params, early_stopping_rounds = 20, iterations=1000, fold_count=5,\n",
        "                           stratified=True, verbose=False) \n",
        "            best_iter_vec = np.array(cross_val[cross_val['test-AUC-mean']==cross_val['test-AUC-mean'].max()])[0]\n",
        "            \n",
        "            best_iter_n = best_iter_vec[0]\n",
        "            best_mean_auc = best_iter_vec[1]\n",
        "            best_std_auc = best_iter_vec[2]\n",
        "            \n",
        "            \n",
        "            param_auc_l.append(best_mean_auc)\n",
        "            param_val_l.append(param_value)\n",
        "            param_iter_n_l.append(best_iter_n)\n",
        "\n",
        "        best_auc = np.max(np.array(param_auc_l))\n",
        "        best_val = param_val_l[np.argmax(np.array(param_auc_l))]\n",
        "        best_iter = param_iter_n_l[np.argmax(np.array(param_auc_l))]\n",
        "        \n",
        "        total_params[param_name] = best_val\n",
        "        total_params['iterations'] = best_iter\n",
        "        \n",
        "        plt.plot(param_val_l, param_auc_l)\n",
        "        plt.legend(param_name)\n",
        "        plt.show()\n",
        "        print(\"AUC on tuned \", param_name, \" : \", best_auc)\n",
        "        \n",
        "        max_auc = max(max_auc, best_auc)\n",
        "        \n",
        "    return total_params, max_auc"
      ],
      "execution_count": 0,
      "outputs": []
    },
    {
      "cell_type": "code",
      "metadata": {
        "id": "zFwIKNfofW1B",
        "colab_type": "code",
        "colab": {
          "base_uri": "https://localhost:8080/",
          "height": 1000
        },
        "outputId": "e428ef65-2190-46d1-dee8-8369a20a5555"
      },
      "source": [
        "pool = Pool(data, labels, cat_features)\n",
        "params, max_auc = catboost_tune_params(pool)"
      ],
      "execution_count": 18,
      "outputs": [
        {
          "output_type": "stream",
          "text": [
            "Stopped by overfitting detector  (20 iterations wait)\n",
            "Stopped by overfitting detector  (20 iterations wait)\n",
            "Stopped by overfitting detector  (20 iterations wait)\n",
            "Stopped by overfitting detector  (20 iterations wait)\n"
          ],
          "name": "stdout"
        },
        {
          "output_type": "display_data",
          "data": {
            "image/png": "[encoded data removed]",
            "text/plain": [
              "<Figure size 432x288 with 1 Axes>"
            ]
          },
          "metadata": {
            "tags": [],
            "needs_background": "light"
          }
        },
        {
          "output_type": "stream",
          "text": [
            "AUC on tuned  learning_rate  :  0.926776006626965\n",
            "Stopped by overfitting detector  (20 iterations wait)\n",
            "Stopped by overfitting detector  (20 iterations wait)\n",
            "Stopped by overfitting detector  (20 iterations wait)\n",
            "Stopped by overfitting detector  (20 iterations wait)\n",
            "Stopped by overfitting detector  (20 iterations wait)\n"
          ],
          "name": "stdout"
        },
        {
          "output_type": "display_data",
          "data": {
            "image/png": "[encoded data removed]",
            "text/plain": [
              "<Figure size 432x288 with 1 Axes>"
            ]
          },
          "metadata": {
            "tags": [],
            "needs_background": "light"
          }
        },
        {
          "output_type": "stream",
          "text": [
            "AUC on tuned  depth  :  0.9364891367621044\n",
            "Stopped by overfitting detector  (20 iterations wait)\n",
            "Stopped by overfitting detector  (20 iterations wait)\n",
            "Stopped by overfitting detector  (20 iterations wait)\n"
          ],
          "name": "stdout"
        },
        {
          "output_type": "display_data",
          "data": {
            "image/png": "[encoded data removed]",
            "text/plain": [
              "<Figure size 432x288 with 1 Axes>"
            ]
          },
          "metadata": {
            "tags": [],
            "needs_background": "light"
          }
        },
        {
          "output_type": "stream",
          "text": [
            "AUC on tuned  subsample  :  0.9382436669981283\n"
          ],
          "name": "stdout"
        }
      ]
    },
    {
      "cell_type": "code",
      "metadata": {
        "id": "azJquKMQfW1F",
        "colab_type": "code",
        "colab": {
          "base_uri": "https://localhost:8080/",
          "height": 151
        },
        "outputId": "dea7b236-3c24-472c-cb1b-c64c15816d70"
      },
      "source": [
        "params"
      ],
      "execution_count": 19,
      "outputs": [
        {
          "output_type": "execute_result",
          "data": {
            "text/plain": [
              "{'depth': 8,\n",
              " 'eval_metric': 'AUC',\n",
              " 'iterations': 363.0,\n",
              " 'learning_rate': 0.1,\n",
              " 'loss_function': 'Logloss',\n",
              " 'random_seed': 241,\n",
              " 'subsample': 0.9,\n",
              " 'thread_count': 8}"
            ]
          },
          "metadata": {
            "tags": []
          },
          "execution_count": 19
        }
      ]
    },
    {
      "cell_type": "code",
      "metadata": {
        "id": "zc_wl1bMiDag",
        "colab_type": "code",
        "colab": {
          "base_uri": "https://localhost:8080/",
          "height": 34
        },
        "outputId": "1d90ac9e-f895-4179-86a2-8ddb14f96042"
      },
      "source": [
        "max_auc"
      ],
      "execution_count": 20,
      "outputs": [
        {
          "output_type": "execute_result",
          "data": {
            "text/plain": [
              "0.9382436669981283"
            ]
          },
          "metadata": {
            "tags": []
          },
          "execution_count": 20
        }
      ]
    },
    {
      "cell_type": "markdown",
      "metadata": {
        "id": "azpci8Lel-NN",
        "colab_type": "text"
      },
      "source": [
        "### Test evaluation"
      ]
    },
    {
      "cell_type": "code",
      "metadata": {
        "id": "9eHkDwM_fW1J",
        "colab_type": "code",
        "colab": {}
      },
      "source": [
        "model = CatBoostClassifier(eval_metric=params['eval_metric'], thread_count=params['thread_count'], random_seed=params['random_seed'], loss_function=params['loss_function'],\n",
        "                           learning_rate=params['learning_rate'], iterations=params['iterations'], depth=params['depth'], subsample=params['subsample'])\n",
        "model.fit(data, labels, cat_features=cat_features)"
      ],
      "execution_count": 0,
      "outputs": []
    },
    {
      "cell_type": "code",
      "metadata": {
        "id": "iTMHHeSlfW1M",
        "colab_type": "code",
        "colab": {}
      },
      "source": [
        "sub_predictions = model.predict(test_data)"
      ],
      "execution_count": 0,
      "outputs": []
    },
    {
      "cell_type": "code",
      "metadata": {
        "id": "d2eBKG0amcn5",
        "colab_type": "code",
        "colab": {}
      },
      "source": [
        "sub_df = pd.DataFrame(sub_predictions, columns=[\"Label\"])"
      ],
      "execution_count": 0,
      "outputs": []
    },
    {
      "cell_type": "code",
      "metadata": {
        "id": "_rEdub1onCfc",
        "colab_type": "code",
        "colab": {}
      },
      "source": [
        "sub_df.to_csv('/content/drive/My Drive/vtb/sub.csv', index=False) "
      ],
      "execution_count": 0,
      "outputs": []
    }
  ]
}